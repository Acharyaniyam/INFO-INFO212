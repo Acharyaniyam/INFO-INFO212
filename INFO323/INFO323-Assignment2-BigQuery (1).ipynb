{
 "cells": [
  {
   "cell_type": "markdown",
   "id": "c99b56ec-8623-4390-bbe7-26c1cb3768a4",
   "metadata": {
    "id": "c99b56ec-8623-4390-bbe7-26c1cb3768a4"
   },
   "source": [
    "# Drexel University\n",
    "## College of Computing and Informatics\n",
    "## INFO 323: Cloud Computing and Big Data\n",
    "### Assignment 2 Exploratory Data Analysis Using BigQuery on GCP\n",
    "### Due Date: Sunday, April 27, 2025\n",
    "This question counts for 10% of the final grade.\n",
    "\n",
    "\n",
    "### A. Assignment 2 Overview\n",
    "This question provides the opportunity for you to practice big data analytics using BigQuery on GCP.\n",
    "\n",
    "### B. What to Hand In\n",
    "\n",
    "Sumbit a completed this Jupyter notebook and the required results.\n",
    "\n",
    "### C. What to do\n",
    "1. Create an instance on GCP’s Vertex AI workbench.\n",
    "3. Upload the given notebook “INFO323-assign2-BigQuery.ipynb” to your bucket in GCP Storage.\n",
    "3. Open the notebook from the instance Jupyter Notebook.\n",
    "4. Answer the questions in the notebook using the data in the BigQuery platform.\n",
    "5. Download the notebook from the bucket.\n",
    "6. Submit the completed Jupyter notebook.\n"
   ]
  },
  {
   "cell_type": "markdown",
   "id": "aa124483-37ee-4e06-b752-1444cdb7cf11",
   "metadata": {
    "id": "aa124483-37ee-4e06-b752-1444cdb7cf11"
   },
   "source": [
    "# YOUR NAME:"
   ]
  },
  {
   "cell_type": "code",
   "execution_count": 1,
   "id": "622f9788-e6de-4a77-afbe-0ce0894fbf1c",
   "metadata": {
    "id": "622f9788-e6de-4a77-afbe-0ce0894fbf1c",
    "tags": []
   },
   "outputs": [],
   "source": [
    "import matplotlib.pyplot as plt\n",
    "import seaborn as sns\n",
    "import pandas as pd\n",
    "import numpy as np\n",
    "\n",
    "from google.cloud import bigquery"
   ]
  },
  {
   "cell_type": "code",
   "execution_count": 2,
   "id": "c8ea5451-264f-47ec-96de-0abbcc155c9f",
   "metadata": {
    "id": "c8ea5451-264f-47ec-96de-0abbcc155c9f",
    "tags": []
   },
   "outputs": [],
   "source": [
    "bq = bigquery.Client()"
   ]
  },
  {
   "cell_type": "markdown",
   "id": "04efb109",
   "metadata": {
    "id": "04efb109"
   },
   "source": [
    "## Data Ingest:\n",
    "- You should have downloaded and ingested the flight data of the year 2018 to BigQuery\n",
    "- For this assignment, you also need to ingested the flight data of the year 2019 to BigQuery for evaluting your models."
   ]
  },
  {
   "cell_type": "markdown",
   "id": "f54b1020-c78a-4306-9800-b353d18c3d01",
   "metadata": {
    "id": "f54b1020-c78a-4306-9800-b353d18c3d01"
   },
   "source": [
    "## Know the Data\n",
    "- The on-performance flight data has 111 attributes. To find the names and meanings of the attributes, you can look at the columns of the table at the BigQuery console or at the BTS Website: https://transtats.bts.gov/Fields.asp?gnoyr_VQ=FGJ"
   ]
  },
  {
   "cell_type": "markdown",
   "id": "5c92aec9-40c3-4fa1-9dce-7bb7ed3150ed",
   "metadata": {
    "id": "5c92aec9-40c3-4fa1-9dce-7bb7ed3150ed"
   },
   "source": [
    "## Use the BigQuery Platform\n",
    "- You should mainly use the BigQuery platform to explore and analyze the data ingested in BigQuery.\n",
    "- Visualization can be done by related Python packages."
   ]
  },
  {
   "cell_type": "markdown",
   "id": "baaa7c18-15d4-4a76-a7be-638421c7e3e7",
   "metadata": {
    "id": "baaa7c18-15d4-4a76-a7be-638421c7e3e7"
   },
   "source": [
    "### Question 1:\n",
    "Plot the distribution of the arrival delays in 2018. Describe the key summary statistics of the arrival delays."
   ]
  },
  {
   "cell_type": "code",
   "execution_count": 12,
   "id": "89bed38c-72da-49b2-9e41-2bbb747c1ee2",
   "metadata": {
    "id": "89bed38c-72da-49b2-9e41-2bbb747c1ee2",
    "tags": []
   },
   "outputs": [
    {
     "data": {
      "text/html": [
       "<div>\n",
       "<style scoped>\n",
       "    .dataframe tbody tr th:only-of-type {\n",
       "        vertical-align: middle;\n",
       "    }\n",
       "\n",
       "    .dataframe tbody tr th {\n",
       "        vertical-align: top;\n",
       "    }\n",
       "\n",
       "    .dataframe thead th {\n",
       "        text-align: right;\n",
       "    }\n",
       "</style>\n",
       "<table border=\"1\" class=\"dataframe\">\n",
       "  <thead>\n",
       "    <tr style=\"text-align: right;\">\n",
       "      <th></th>\n",
       "      <th>ArrDelay</th>\n",
       "    </tr>\n",
       "  </thead>\n",
       "  <tbody>\n",
       "    <tr>\n",
       "      <th>0</th>\n",
       "      <td>58.0</td>\n",
       "    </tr>\n",
       "    <tr>\n",
       "      <th>1</th>\n",
       "      <td>348.0</td>\n",
       "    </tr>\n",
       "    <tr>\n",
       "      <th>2</th>\n",
       "      <td>29.0</td>\n",
       "    </tr>\n",
       "    <tr>\n",
       "      <th>3</th>\n",
       "      <td>29.0</td>\n",
       "    </tr>\n",
       "    <tr>\n",
       "      <th>4</th>\n",
       "      <td>26.0</td>\n",
       "    </tr>\n",
       "    <tr>\n",
       "      <th>...</th>\n",
       "      <td>...</td>\n",
       "    </tr>\n",
       "    <tr>\n",
       "      <th>6446486</th>\n",
       "      <td>20.0</td>\n",
       "    </tr>\n",
       "    <tr>\n",
       "      <th>6446487</th>\n",
       "      <td>20.0</td>\n",
       "    </tr>\n",
       "    <tr>\n",
       "      <th>6446488</th>\n",
       "      <td>20.0</td>\n",
       "    </tr>\n",
       "    <tr>\n",
       "      <th>6446489</th>\n",
       "      <td>20.0</td>\n",
       "    </tr>\n",
       "    <tr>\n",
       "      <th>6446490</th>\n",
       "      <td>20.0</td>\n",
       "    </tr>\n",
       "  </tbody>\n",
       "</table>\n",
       "<p>6446491 rows × 1 columns</p>\n",
       "</div>"
      ],
      "text/plain": [
       "         ArrDelay\n",
       "0            58.0\n",
       "1           348.0\n",
       "2            29.0\n",
       "3            29.0\n",
       "4            26.0\n",
       "...           ...\n",
       "6446486      20.0\n",
       "6446487      20.0\n",
       "6446488      20.0\n",
       "6446489      20.0\n",
       "6446490      20.0\n",
       "\n",
       "[6446491 rows x 1 columns]"
      ]
     },
     "execution_count": 12,
     "metadata": {},
     "output_type": "execute_result"
    }
   ],
   "source": [
    "query_2018 = \"\"\"\n",
    "SELECT ArrDelay\n",
    "FROM `info323-nka42-spring2025.dsongcp.flights-2018`\n",
    "WHERE ArrDelay IS NOT NULL\n",
    "\"\"\"\n",
    "arrival_delays = bq.query(query_2018).to_dataframe()\n",
    "arrival_delays"
   ]
  },
  {
   "cell_type": "code",
   "execution_count": 6,
   "id": "5b43e64c-2866-42fc-9d5e-d5b964c6e156",
   "metadata": {
    "tags": []
   },
   "outputs": [
    {
     "data": {
      "image/png": "[encoded data removed]",
      "text/plain": [
       "<Figure size 800x600 with 1 Axes>"
      ]
     },
     "metadata": {},
     "output_type": "display_data"
    }
   ],
   "source": [
    "plt.figure(figsize=(8,6))\n",
    "sns.histplot(arrival_delays['ArrDelay'], bins=100)\n",
    "plt.title('Distribution of the arrival delays in 2018')\n",
    "plt.xlabel('Delay Time(mins)')\n",
    "plt.ylabel('Number of Delays')\n",
    "plt.grid(True)\n",
    "plt.xlim(-100,300) #zooms in the visual to get arrival delay time from -100 to 300 mins\n",
    "plt.show()"
   ]
  },
  {
   "cell_type": "code",
   "execution_count": 10,
   "id": "75c31f36-0807-443c-add4-74f961eee037",
   "metadata": {
    "tags": []
   },
   "outputs": [
    {
     "data": {
      "text/plain": [
       "count    6.446491e+06\n",
       "mean     4.591343e+00\n",
       "std      4.628048e+01\n",
       "min     -1.200000e+02\n",
       "25%     -1.400000e+01\n",
       "50%     -6.000000e+00\n",
       "75%      7.000000e+00\n",
       "max      2.692000e+03\n",
       "Name: ArrDelay, dtype: float64"
      ]
     },
     "execution_count": 10,
     "metadata": {},
     "output_type": "execute_result"
    }
   ],
   "source": [
    "arrival_delays['ArrDelay'].describe()"
   ]
  },
  {
   "cell_type": "markdown",
   "id": "a3da51ba-d346-4e5f-8a5b-d1c26df1d88e",
   "metadata": {},
   "source": [
    "Mean delay: About +5 minutes, so flights arrived slightly late on average.\n",
    "\n",
    "Median delay: About -6 minutes, meaning more than half arrived early or on time.\n",
    "\n",
    "Spread: High variability (std ≈ 46 minutes).\n",
    "\n",
    "Range: From -120 minutes (early) to +2692 minutes (very late).\n",
    "\n",
    "Shape: Right-skewed."
   ]
  },
  {
   "cell_type": "markdown",
   "id": "868c560e-3df4-4c42-b96e-7bdde9350967",
   "metadata": {
    "id": "868c560e-3df4-4c42-b96e-7bdde9350967"
   },
   "source": [
    "### Question 2:\n",
    "For each origin airport, find the average departure and arrival delays in 2018. For the airports that have at least 1 flight per day, plot the average departure delays and average arrival delays. List the top 10 airports that have the largest average arrival delays for flights at destinations."
   ]
  },
  {
   "cell_type": "code",
   "execution_count": 17,
   "id": "6094c708-e47b-493e-baf1-66e50b3b8b48",
   "metadata": {
    "id": "6094c708-e47b-493e-baf1-66e50b3b8b48",
    "tags": []
   },
   "outputs": [
    {
     "data": {
      "text/html": [
       "<div>\n",
       "<style scoped>\n",
       "    .dataframe tbody tr th:only-of-type {\n",
       "        vertical-align: middle;\n",
       "    }\n",
       "\n",
       "    .dataframe tbody tr th {\n",
       "        vertical-align: top;\n",
       "    }\n",
       "\n",
       "    .dataframe thead th {\n",
       "        text-align: right;\n",
       "    }\n",
       "</style>\n",
       "<table border=\"1\" class=\"dataframe\">\n",
       "  <thead>\n",
       "    <tr style=\"text-align: right;\">\n",
       "      <th></th>\n",
       "      <th>airport</th>\n",
       "      <th>avg_arr_delay</th>\n",
       "      <th>avg_dep_delay</th>\n",
       "      <th>flight_count</th>\n",
       "    </tr>\n",
       "  </thead>\n",
       "  <tbody>\n",
       "    <tr>\n",
       "      <th>0</th>\n",
       "      <td>MYR</td>\n",
       "      <td>4.617797</td>\n",
       "      <td>8.428310</td>\n",
       "      <td>9822</td>\n",
       "    </tr>\n",
       "    <tr>\n",
       "      <th>1</th>\n",
       "      <td>ORD</td>\n",
       "      <td>9.476481</td>\n",
       "      <td>11.570874</td>\n",
       "      <td>295380</td>\n",
       "    </tr>\n",
       "    <tr>\n",
       "      <th>2</th>\n",
       "      <td>LAX</td>\n",
       "      <td>1.057152</td>\n",
       "      <td>8.085911</td>\n",
       "      <td>199381</td>\n",
       "    </tr>\n",
       "    <tr>\n",
       "      <th>3</th>\n",
       "      <td>EWR</td>\n",
       "      <td>7.817558</td>\n",
       "      <td>13.791898</td>\n",
       "      <td>127016</td>\n",
       "    </tr>\n",
       "    <tr>\n",
       "      <th>4</th>\n",
       "      <td>BRW</td>\n",
       "      <td>-8.349158</td>\n",
       "      <td>-7.437979</td>\n",
       "      <td>653</td>\n",
       "    </tr>\n",
       "    <tr>\n",
       "      <th>...</th>\n",
       "      <td>...</td>\n",
       "      <td>...</td>\n",
       "      <td>...</td>\n",
       "      <td>...</td>\n",
       "    </tr>\n",
       "    <tr>\n",
       "      <th>353</th>\n",
       "      <td>CGI</td>\n",
       "      <td>9.350000</td>\n",
       "      <td>6.044444</td>\n",
       "      <td>540</td>\n",
       "    </tr>\n",
       "    <tr>\n",
       "      <th>354</th>\n",
       "      <td>YUM</td>\n",
       "      <td>-5.326466</td>\n",
       "      <td>-0.232171</td>\n",
       "      <td>1262</td>\n",
       "    </tr>\n",
       "    <tr>\n",
       "      <th>355</th>\n",
       "      <td>DRT</td>\n",
       "      <td>-9.805310</td>\n",
       "      <td>6.725664</td>\n",
       "      <td>113</td>\n",
       "    </tr>\n",
       "    <tr>\n",
       "      <th>356</th>\n",
       "      <td>HYA</td>\n",
       "      <td>29.327586</td>\n",
       "      <td>38.431034</td>\n",
       "      <td>58</td>\n",
       "    </tr>\n",
       "    <tr>\n",
       "      <th>357</th>\n",
       "      <td>OGS</td>\n",
       "      <td>6.768595</td>\n",
       "      <td>14.148760</td>\n",
       "      <td>121</td>\n",
       "    </tr>\n",
       "  </tbody>\n",
       "</table>\n",
       "<p>358 rows × 4 columns</p>\n",
       "</div>"
      ],
      "text/plain": [
       "    airport  avg_arr_delay  avg_dep_delay  flight_count\n",
       "0       MYR       4.617797       8.428310          9822\n",
       "1       ORD       9.476481      11.570874        295380\n",
       "2       LAX       1.057152       8.085911        199381\n",
       "3       EWR       7.817558      13.791898        127016\n",
       "4       BRW      -8.349158      -7.437979           653\n",
       "..      ...            ...            ...           ...\n",
       "353     CGI       9.350000       6.044444           540\n",
       "354     YUM      -5.326466      -0.232171          1262\n",
       "355     DRT      -9.805310       6.725664           113\n",
       "356     HYA      29.327586      38.431034            58\n",
       "357     OGS       6.768595      14.148760           121\n",
       "\n",
       "[358 rows x 4 columns]"
      ]
     },
     "execution_count": 17,
     "metadata": {},
     "output_type": "execute_result"
    }
   ],
   "source": [
    "query_avg_delays = \"\"\"\n",
    "SELECT \n",
    "    Origin AS airport, AVG(ArrDelay) AS avg_arr_delay, AVG(DepDelay) AS avg_dep_delay, COUNT(*) AS flight_count\n",
    "FROM\n",
    "    `info323-nka42-spring2025.dsongcp.flights-2018`\n",
    "WHERE \n",
    "    ArrDelay IS NOT NULL\n",
    "GROUP BY\n",
    "    ORIGIN\n",
    "\"\"\"\n",
    "\n",
    "airport_avg_delays = bq.query(query_avg_delays).to_dataframe()\n",
    "airport_avg_delays"
   ]
  },
  {
   "cell_type": "code",
   "execution_count": 18,
   "id": "d9538425-41cf-42fc-a23c-39b34255c64c",
   "metadata": {
    "tags": []
   },
   "outputs": [
    {
     "data": {
      "image/png": "[encoded data removed]",
      "text/plain": [
       "<Figure size 1000x600 with 1 Axes>"
      ]
     },
     "metadata": {},
     "output_type": "display_data"
    }
   ],
   "source": [
    "airport_avg_delays_filtered = airport_avg_delays[airport_avg_delays['flight_count'] >= 365]\n",
    "plt.figure(figsize=(10,6))\n",
    "sns.scatterplot(\n",
    "    data=airport_avg_delays_filtered,\n",
    "    x='avg_dep_delay',\n",
    "    y='avg_arr_delay'\n",
    ")\n",
    "plt.title('Average Departure vs Arrival Delays (Airports with ≥ 1 flight/day)')\n",
    "plt.xlabel('Average Departure Delay (minutes)')\n",
    "plt.ylabel('Average Arrival Delay (minutes)')\n",
    "plt.grid(True)\n",
    "plt.show()"
   ]
  },
  {
   "cell_type": "code",
   "execution_count": 19,
   "id": "be8fcf5b-ce20-4330-8add-df48e1450f61",
   "metadata": {
    "tags": []
   },
   "outputs": [
    {
     "name": "stdout",
     "output_type": "stream",
     "text": [
      "    airport  avg_arr_delay  avg_dep_delay  flight_count\n",
      "19      SLN      24.037225      20.324873           591\n",
      "259     SCK      22.177347      23.526080           671\n",
      "228     CMX      20.939587      22.837838           629\n",
      "223     LWB      20.127049      22.102459           488\n",
      "339     BLV      19.038961      21.870130           924\n",
      "261     TTN      18.915530      23.789265          2273\n",
      "267     ORH      18.428743      20.898204           835\n",
      "100     LCK      18.336766      20.403708           971\n",
      "57      USA      17.734994      17.723669           883\n",
      "342     ACK      17.383667      22.354938           649\n"
     ]
    }
   ],
   "source": [
    "top10_airports_arrival = airport_avg_delays_filtered.sort_values(\n",
    "    by='avg_arr_delay', ascending=False\n",
    ").head(10)\n",
    "print(top10_airports_arrival)"
   ]
  },
  {
   "cell_type": "markdown",
   "id": "97f61620-5121-4ed4-b911-203b9b959240",
   "metadata": {
    "id": "97f61620-5121-4ed4-b911-203b9b959240"
   },
   "source": [
    "## For the rest of the questions, you should only focus on the airports that have at least 1 flight per day."
   ]
  },
  {
   "cell_type": "markdown",
   "id": "165ac3ca-d3ee-4bda-bad9-d4d505feb5d6",
   "metadata": {
    "id": "165ac3ca-d3ee-4bda-bad9-d4d505feb5d6"
   },
   "source": [
    "### Question 3:\n",
    "What is the percentage of the delayed flights in 2018?"
   ]
  },
  {
   "cell_type": "code",
   "execution_count": 20,
   "id": "83713b58-e2c6-442c-9d89-9b0022cd73ad",
   "metadata": {
    "id": "83713b58-e2c6-442c-9d89-9b0022cd73ad",
    "tags": []
   },
   "outputs": [],
   "source": [
    "# Get list of airports with at least 365 flights\n",
    "valid_airports = airport_avg_delays_filtered['airport'].tolist()"
   ]
  },
  {
   "cell_type": "code",
   "execution_count": 24,
   "id": "ff95d05b-70b6-4b1c-bcdc-ac78a6b33f99",
   "metadata": {
    "tags": []
   },
   "outputs": [
    {
     "data": {
      "text/html": [
       "<div>\n",
       "<style scoped>\n",
       "    .dataframe tbody tr th:only-of-type {\n",
       "        vertical-align: middle;\n",
       "    }\n",
       "\n",
       "    .dataframe tbody tr th {\n",
       "        vertical-align: top;\n",
       "    }\n",
       "\n",
       "    .dataframe thead th {\n",
       "        text-align: right;\n",
       "    }\n",
       "</style>\n",
       "<table border=\"1\" class=\"dataframe\">\n",
       "  <thead>\n",
       "    <tr style=\"text-align: right;\">\n",
       "      <th></th>\n",
       "      <th>total_flights</th>\n",
       "      <th>delayed_flights</th>\n",
       "    </tr>\n",
       "  </thead>\n",
       "  <tbody>\n",
       "    <tr>\n",
       "      <th>0</th>\n",
       "      <td>6441859</td>\n",
       "      <td>2269129</td>\n",
       "    </tr>\n",
       "  </tbody>\n",
       "</table>\n",
       "</div>"
      ],
      "text/plain": [
       "   total_flights  delayed_flights\n",
       "0        6441859          2269129"
      ]
     },
     "execution_count": 24,
     "metadata": {},
     "output_type": "execute_result"
    }
   ],
   "source": [
    "# Format airports into a string for SQL. This is needed so that SQL doesn't show an invalid syntax error, since SQL doesn't take in a list.\n",
    "#(Just turning a list into a string to make it SQL-compatible)\n",
    "airport_list = ','.join([f\"'{airport}'\" for airport in valid_airports])\n",
    "\n",
    "query_delays = f\"\"\"\n",
    "SELECT\n",
    "  COUNT(*) AS total_flights,\n",
    "  SUM(CASE WHEN ArrDelay > 0 THEN 1 ELSE 0 END) AS delayed_flights\n",
    "FROM\n",
    "  `info323-nka42-spring2025.dsongcp.flights-2018`\n",
    "WHERE\n",
    "  ORIGIN IN ({airport_list})\n",
    "  AND ArrDelay IS NOT NULL\n",
    "\"\"\"\n",
    "\n",
    "delay_stats = bq.query(query_delays).to_dataframe()\n",
    "delay_stats"
   ]
  },
  {
   "cell_type": "code",
   "execution_count": 23,
   "id": "a9a2896f-a80e-4985-a34c-8f6b0c7f8668",
   "metadata": {
    "tags": []
   },
   "outputs": [
    {
     "name": "stdout",
     "output_type": "stream",
     "text": [
      "Percentage of delayed flights: 35.22%\n"
     ]
    }
   ],
   "source": [
    "total_flights = delay_stats['total_flights'][0]\n",
    "delayed_flights = delay_stats['delayed_flights'][0]\n",
    "\n",
    "delay_percentage = (delayed_flights / total_flights) * 100\n",
    "\n",
    "print(f\"Percentage of delayed flights: {delay_percentage:.2f}%\")"
   ]
  },
  {
   "cell_type": "markdown",
   "id": "6f431b04-6c1a-4c4d-af03-3a59ad592946",
   "metadata": {
    "id": "6f431b04-6c1a-4c4d-af03-3a59ad592946"
   },
   "source": [
    "### Question 4:\n",
    "Which are the top 5 origin airports that have the highest percentage of delayed flights in 2018? List the origin airports with more than 30% of delayed flights."
   ]
  },
  {
   "cell_type": "code",
   "execution_count": 39,
   "id": "9dac5ea7-fb22-4dce-bc1a-effd39bda934",
   "metadata": {
    "id": "9dac5ea7-fb22-4dce-bc1a-effd39bda934",
    "tags": []
   },
   "outputs": [
    {
     "data": {
      "text/html": [
       "<div>\n",
       "<style scoped>\n",
       "    .dataframe tbody tr th:only-of-type {\n",
       "        vertical-align: middle;\n",
       "    }\n",
       "\n",
       "    .dataframe tbody tr th {\n",
       "        vertical-align: top;\n",
       "    }\n",
       "\n",
       "    .dataframe thead th {\n",
       "        text-align: right;\n",
       "    }\n",
       "</style>\n",
       "<table border=\"1\" class=\"dataframe\">\n",
       "  <thead>\n",
       "    <tr style=\"text-align: right;\">\n",
       "      <th></th>\n",
       "      <th>airport</th>\n",
       "      <th>total_flights</th>\n",
       "      <th>delayed_flights</th>\n",
       "    </tr>\n",
       "  </thead>\n",
       "  <tbody>\n",
       "    <tr>\n",
       "      <th>0</th>\n",
       "      <td>JFK</td>\n",
       "      <td>114478</td>\n",
       "      <td>38080</td>\n",
       "    </tr>\n",
       "    <tr>\n",
       "      <th>1</th>\n",
       "      <td>MDW</td>\n",
       "      <td>77255</td>\n",
       "      <td>34655</td>\n",
       "    </tr>\n",
       "    <tr>\n",
       "      <th>2</th>\n",
       "      <td>ADQ</td>\n",
       "      <td>562</td>\n",
       "      <td>134</td>\n",
       "    </tr>\n",
       "    <tr>\n",
       "      <th>3</th>\n",
       "      <td>JNU</td>\n",
       "      <td>3861</td>\n",
       "      <td>940</td>\n",
       "    </tr>\n",
       "    <tr>\n",
       "      <th>4</th>\n",
       "      <td>OTZ</td>\n",
       "      <td>625</td>\n",
       "      <td>176</td>\n",
       "    </tr>\n",
       "    <tr>\n",
       "      <th>...</th>\n",
       "      <td>...</td>\n",
       "      <td>...</td>\n",
       "      <td>...</td>\n",
       "    </tr>\n",
       "    <tr>\n",
       "      <th>322</th>\n",
       "      <td>ROW</td>\n",
       "      <td>1220</td>\n",
       "      <td>322</td>\n",
       "    </tr>\n",
       "    <tr>\n",
       "      <th>323</th>\n",
       "      <td>APN</td>\n",
       "      <td>546</td>\n",
       "      <td>183</td>\n",
       "    </tr>\n",
       "    <tr>\n",
       "      <th>324</th>\n",
       "      <td>USA</td>\n",
       "      <td>883</td>\n",
       "      <td>418</td>\n",
       "    </tr>\n",
       "    <tr>\n",
       "      <th>325</th>\n",
       "      <td>RHI</td>\n",
       "      <td>649</td>\n",
       "      <td>172</td>\n",
       "    </tr>\n",
       "    <tr>\n",
       "      <th>326</th>\n",
       "      <td>FLG</td>\n",
       "      <td>1061</td>\n",
       "      <td>291</td>\n",
       "    </tr>\n",
       "  </tbody>\n",
       "</table>\n",
       "<p>327 rows × 3 columns</p>\n",
       "</div>"
      ],
      "text/plain": [
       "    airport  total_flights  delayed_flights\n",
       "0       JFK         114478            38080\n",
       "1       MDW          77255            34655\n",
       "2       ADQ            562              134\n",
       "3       JNU           3861              940\n",
       "4       OTZ            625              176\n",
       "..      ...            ...              ...\n",
       "322     ROW           1220              322\n",
       "323     APN            546              183\n",
       "324     USA            883              418\n",
       "325     RHI            649              172\n",
       "326     FLG           1061              291\n",
       "\n",
       "[327 rows x 3 columns]"
      ]
     },
     "execution_count": 39,
     "metadata": {},
     "output_type": "execute_result"
    }
   ],
   "source": [
    "#same sql code as above but just adding the origin column:\n",
    "#the f\"\"\"  is required if you are referenceing a python variable in your sql code\n",
    "query_delayed_percentages = f\"\"\" \n",
    "SELECT\n",
    "  ORIGIN AS airport,\n",
    "  COUNT(*) AS total_flights,\n",
    "  SUM(CASE WHEN ArrDelay > 0 THEN 1 ELSE 0 END) AS delayed_flights\n",
    "FROM\n",
    "  `info323-nka42-spring2025.dsongcp.flights-2018`\n",
    "WHERE\n",
    "  ORIGIN IN ({airport_list})\n",
    "  AND ArrDelay IS NOT NULL\n",
    "GROUP BY\n",
    "  ORIGIN\n",
    "\"\"\"\n",
    "\n",
    "airport_delay_stats = bq.query(query_delayed_percentages).to_dataframe()\n",
    "\n",
    "airport_delay_stats "
   ]
  },
  {
   "cell_type": "code",
   "execution_count": 30,
   "id": "b696aee7-b075-474f-b3ec-89301c27c208",
   "metadata": {
    "tags": []
   },
   "outputs": [
    {
     "data": {
      "text/html": [
       "<div>\n",
       "<style scoped>\n",
       "    .dataframe tbody tr th:only-of-type {\n",
       "        vertical-align: middle;\n",
       "    }\n",
       "\n",
       "    .dataframe tbody tr th {\n",
       "        vertical-align: top;\n",
       "    }\n",
       "\n",
       "    .dataframe thead th {\n",
       "        text-align: right;\n",
       "    }\n",
       "</style>\n",
       "<table border=\"1\" class=\"dataframe\">\n",
       "  <thead>\n",
       "    <tr style=\"text-align: right;\">\n",
       "      <th></th>\n",
       "      <th>airport</th>\n",
       "      <th>total_flights</th>\n",
       "      <th>delayed_flights</th>\n",
       "      <th>delay_percentage</th>\n",
       "    </tr>\n",
       "  </thead>\n",
       "  <tbody>\n",
       "    <tr>\n",
       "      <th>0</th>\n",
       "      <td>CLT</td>\n",
       "      <td>206325</td>\n",
       "      <td>85210</td>\n",
       "      <td>41.298922</td>\n",
       "    </tr>\n",
       "    <tr>\n",
       "      <th>1</th>\n",
       "      <td>PGD</td>\n",
       "      <td>4816</td>\n",
       "      <td>1576</td>\n",
       "      <td>32.724252</td>\n",
       "    </tr>\n",
       "    <tr>\n",
       "      <th>2</th>\n",
       "      <td>DFW</td>\n",
       "      <td>248462</td>\n",
       "      <td>103217</td>\n",
       "      <td>41.542369</td>\n",
       "    </tr>\n",
       "    <tr>\n",
       "      <th>3</th>\n",
       "      <td>AUS</td>\n",
       "      <td>56880</td>\n",
       "      <td>20367</td>\n",
       "      <td>35.806962</td>\n",
       "    </tr>\n",
       "    <tr>\n",
       "      <th>4</th>\n",
       "      <td>BWI</td>\n",
       "      <td>95237</td>\n",
       "      <td>33683</td>\n",
       "      <td>35.367557</td>\n",
       "    </tr>\n",
       "    <tr>\n",
       "      <th>...</th>\n",
       "      <td>...</td>\n",
       "      <td>...</td>\n",
       "      <td>...</td>\n",
       "      <td>...</td>\n",
       "    </tr>\n",
       "    <tr>\n",
       "      <th>322</th>\n",
       "      <td>BLI</td>\n",
       "      <td>2062</td>\n",
       "      <td>587</td>\n",
       "      <td>28.467507</td>\n",
       "    </tr>\n",
       "    <tr>\n",
       "      <th>323</th>\n",
       "      <td>LSE</td>\n",
       "      <td>1875</td>\n",
       "      <td>562</td>\n",
       "      <td>29.973333</td>\n",
       "    </tr>\n",
       "    <tr>\n",
       "      <th>324</th>\n",
       "      <td>IAG</td>\n",
       "      <td>731</td>\n",
       "      <td>304</td>\n",
       "      <td>41.586867</td>\n",
       "    </tr>\n",
       "    <tr>\n",
       "      <th>325</th>\n",
       "      <td>CMX</td>\n",
       "      <td>629</td>\n",
       "      <td>212</td>\n",
       "      <td>33.704293</td>\n",
       "    </tr>\n",
       "    <tr>\n",
       "      <th>326</th>\n",
       "      <td>MKG</td>\n",
       "      <td>621</td>\n",
       "      <td>175</td>\n",
       "      <td>28.180354</td>\n",
       "    </tr>\n",
       "  </tbody>\n",
       "</table>\n",
       "<p>327 rows × 4 columns</p>\n",
       "</div>"
      ],
      "text/plain": [
       "    airport  total_flights  delayed_flights  delay_percentage\n",
       "0       CLT         206325            85210         41.298922\n",
       "1       PGD           4816             1576         32.724252\n",
       "2       DFW         248462           103217         41.542369\n",
       "3       AUS          56880            20367         35.806962\n",
       "4       BWI          95237            33683         35.367557\n",
       "..      ...            ...              ...               ...\n",
       "322     BLI           2062              587         28.467507\n",
       "323     LSE           1875              562         29.973333\n",
       "324     IAG            731              304         41.586867\n",
       "325     CMX            629              212         33.704293\n",
       "326     MKG            621              175         28.180354\n",
       "\n",
       "[327 rows x 4 columns]"
      ]
     },
     "execution_count": 30,
     "metadata": {},
     "output_type": "execute_result"
    }
   ],
   "source": [
    "#adding the percentage col\n",
    "airport_delay_stats['delay_percentage'] = (airport_delay_stats['delayed_flights'] / airport_delay_stats['total_flights']) * 100\n",
    "airport_delay_stats"
   ]
  },
  {
   "cell_type": "code",
   "execution_count": 31,
   "id": "9bd39dae-2123-46b6-ba0e-d1a1a0a1306e",
   "metadata": {
    "tags": []
   },
   "outputs": [
    {
     "name": "stdout",
     "output_type": "stream",
     "text": [
      "    airport  delay_percentage\n",
      "28      SCK         63.636364\n",
      "209     SLN         47.715736\n",
      "246     USA         47.338618\n",
      "84      BLV         46.969697\n",
      "36      ORH         46.467066\n"
     ]
    }
   ],
   "source": [
    "#The top 5 origin airports that have the highest percentage of delayed flights in 2018\n",
    "top5_delayed_airports = airport_delay_stats.sort_values(\n",
    "    by='delay_percentage', ascending=False\n",
    ").head(5)\n",
    "\n",
    "print(top5_delayed_airports[['airport', 'delay_percentage']])"
   ]
  },
  {
   "cell_type": "code",
   "execution_count": 35,
   "id": "c33ee418-31d8-411f-9035-5316f2294ac4",
   "metadata": {
    "tags": []
   },
   "outputs": [
    {
     "name": "stdout",
     "output_type": "stream",
     "text": [
      "    airport  delay_percentage\n",
      "0       CLT         41.298922\n",
      "1       PGD         32.724252\n",
      "2       DFW         41.542369\n",
      "3       AUS         35.806962\n",
      "4       BWI         35.367557\n",
      "..      ...               ...\n",
      "318     MBS         30.772262\n",
      "319     BQN         39.230327\n",
      "320     LWB         42.622951\n",
      "324     IAG         41.586867\n",
      "325     CMX         33.704293\n",
      "\n",
      "[230 rows x 2 columns]\n"
     ]
    }
   ],
   "source": [
    "#Origin airports with more than 30% of delayed flights\n",
    "airports_above_30pct = airport_delay_stats[airport_delay_stats['delay_percentage'] > 30]\n",
    "\n",
    "print(airports_above_30pct[['airport', 'delay_percentage']])"
   ]
  },
  {
   "cell_type": "markdown",
   "id": "5981d07a-888d-4025-afcb-fc77c4cb53da",
   "metadata": {
    "id": "5981d07a-888d-4025-afcb-fc77c4cb53da"
   },
   "source": [
    "### Question 5:\n",
    "Which are the top 5 pairs of origin and destination airports that have the highest percentage of delayed flights in 2018? List the pairs of origin and destination airports with more than 30% of delayed flights."
   ]
  },
  {
   "cell_type": "code",
   "execution_count": 40,
   "id": "6349d2ff-7177-4aaa-84d5-7fa7ad2a16ae",
   "metadata": {
    "tags": []
   },
   "outputs": [],
   "source": [
    "query_od_delayed_percentages = f\"\"\"\n",
    "SELECT\n",
    "  ORIGIN AS origin_airport,\n",
    "  DEST AS destination_airport,\n",
    "  COUNT(*) AS total_flights,\n",
    "  SUM(CASE WHEN ArrDelay > 0 THEN 1 ELSE 0 END) AS delayed_flights\n",
    "FROM\n",
    "  `info323-nka42-spring2025.dsongcp.flights-2018`\n",
    "WHERE\n",
    "  ORIGIN IN ({airport_list})\n",
    "  AND DEST IN ({airport_list})\n",
    "  AND ArrDelay IS NOT NULL\n",
    "GROUP BY\n",
    "  ORIGIN, DEST\n",
    "\"\"\"\n",
    "\n",
    "od_delay_stats = bq.query(query_od_delayed_percentages).to_dataframe()"
   ]
  },
  {
   "cell_type": "code",
   "execution_count": 43,
   "id": "ac6125d5-9dbc-4cfc-8264-2e2b23983a7a",
   "metadata": {
    "id": "ac6125d5-9dbc-4cfc-8264-2e2b23983a7a",
    "tags": []
   },
   "outputs": [
    {
     "name": "stdout",
     "output_type": "stream",
     "text": [
      "     origin_airport destination_airport  delay_percentage\n",
      "6202            PVU                 OAK             100.0\n",
      "6201            DAL                 GSP             100.0\n",
      "4261            IAH                 JFK             100.0\n",
      "605             AVP                 PIE             100.0\n",
      "1814            SFO                 SDF             100.0\n"
     ]
    }
   ],
   "source": [
    "#adding the percentage col\n",
    "od_delay_stats['delay_percentage'] = (od_delay_stats['delayed_flights'] / od_delay_stats['total_flights']) * 100\n",
    "#sorting and getting top5\n",
    "top5_od_delayed = od_delay_stats.sort_values(\n",
    "    by='delay_percentage', ascending=False\n",
    ").head(5)\n",
    "\n",
    "print(top5_od_delayed[['origin_airport', 'destination_airport', 'delay_percentage']])"
   ]
  },
  {
   "cell_type": "code",
   "execution_count": 44,
   "id": "742467e1-6105-4655-b5b3-65b7da8e41d2",
   "metadata": {
    "tags": []
   },
   "outputs": [
    {
     "name": "stdout",
     "output_type": "stream",
     "text": [
      "     origin_airport destination_airport  delay_percentage\n",
      "1               LAX                 ABQ         36.197917\n",
      "8               BWI                 ALB         35.861258\n",
      "10              PHX                 AMA         40.585774\n",
      "11              HNL                 ANC         34.242424\n",
      "14              CRW                 ATL         35.669674\n",
      "...             ...                 ...               ...\n",
      "6195            ATL                 MSO         66.666667\n",
      "6196            CMH                 PBI         42.857143\n",
      "6197            HTS                 PGD              50.0\n",
      "6201            DAL                 GSP             100.0\n",
      "6202            PVU                 OAK             100.0\n",
      "\n",
      "[4468 rows x 3 columns]\n"
     ]
    }
   ],
   "source": [
    "# Origin-destination pairs with >30% delayed flights\n",
    "od_above_30pct = od_delay_stats[od_delay_stats['delay_percentage'] > 30]\n",
    "\n",
    "print(od_above_30pct[['origin_airport', 'destination_airport', 'delay_percentage']])"
   ]
  },
  {
   "cell_type": "markdown",
   "id": "55137781-4ef0-4aa2-b37f-1122ca21499e",
   "metadata": {
    "id": "55137781-4ef0-4aa2-b37f-1122ca21499e"
   },
   "source": [
    "### Question 6:\n",
    "Which are the top 5 airlines that have the highest percentage of delayed flights in 2018? List the airlines with more than 30% of delayed flights."
   ]
  },
  {
   "cell_type": "code",
   "execution_count": 51,
   "id": "2725c99e-a466-43b7-bf60-0d86b32d17b0",
   "metadata": {
    "id": "2725c99e-a466-43b7-bf60-0d86b32d17b0",
    "tags": []
   },
   "outputs": [],
   "source": [
    "query_airline_delays = \"\"\"\n",
    "SELECT\n",
    "  Reporting_Airline AS airline,\n",
    "  COUNT(*) AS total_flights,\n",
    "  SUM(CASE WHEN ArrDelay > 0 THEN 1 ELSE 0 END) AS delayed_flights\n",
    "FROM\n",
    "  `info323-nka42-spring2025.dsongcp.flights-2018`\n",
    "WHERE\n",
    "  ArrDelay IS NOT NULL\n",
    "GROUP BY\n",
    "  Reporting_Airline\n",
    "\"\"\"\n",
    "airline_delay_stats = bq.query(query_airline_delays).to_dataframe()"
   ]
  },
  {
   "cell_type": "code",
   "execution_count": 52,
   "id": "23897819-21ca-42b4-9792-be3b778d8833",
   "metadata": {
    "tags": []
   },
   "outputs": [
    {
     "name": "stdout",
     "output_type": "stream",
     "text": [
      "   airline  delay_percentage\n",
      "14      F9          43.83742\n",
      "10      B6         42.430929\n",
      "11      OH          40.11164\n",
      "7       G4         39.084038\n",
      "13      WN         38.516797\n"
     ]
    }
   ],
   "source": [
    "# Adding the delay percentage column\n",
    "airline_delay_stats['delay_percentage'] = (airline_delay_stats['delayed_flights'] / airline_delay_stats['total_flights']) * 100\n",
    "# Sorting and getting top 5 airlines\n",
    "top5_airlines_delayed = airline_delay_stats.sort_values(\n",
    "    by='delay_percentage', ascending=False\n",
    ").head(5)\n",
    "\n",
    "print(top5_airlines_delayed[['airline', 'delay_percentage']])"
   ]
  },
  {
   "cell_type": "code",
   "execution_count": 53,
   "id": "ecf7f3a6-e5f1-4f7b-a0f2-906dacff80ae",
   "metadata": {
    "tags": []
   },
   "outputs": [
    {
     "name": "stdout",
     "output_type": "stream",
     "text": [
      "   airline  delay_percentage\n",
      "0       AS         33.875866\n",
      "2       MQ         36.892148\n",
      "3       EV         34.552448\n",
      "4       UA         33.947766\n",
      "5       AA         36.921549\n",
      "6       NK         31.499043\n",
      "7       G4         39.084038\n",
      "8       VX         36.949805\n",
      "9       YX         32.686322\n",
      "10      B6         42.430929\n",
      "11      OH          40.11164\n",
      "12      OO         34.396174\n",
      "13      WN         38.516797\n",
      "14      F9          43.83742\n",
      "15      YV         37.884173\n",
      "16      9E         30.732143\n",
      "17      HA           33.4924\n"
     ]
    }
   ],
   "source": [
    "# Airlines with >30% delayed flights\n",
    "airlines_above_30pct = airline_delay_stats[airline_delay_stats['delay_percentage'] > 30]\n",
    "\n",
    "print(airlines_above_30pct[['airline', 'delay_percentage']])"
   ]
  },
  {
   "cell_type": "markdown",
   "id": "32b1355d-02bc-4e54-8e95-9c8565e893a2",
   "metadata": {
    "id": "32b1355d-02bc-4e54-8e95-9c8565e893a2"
   },
   "source": [
    "### Question 7:\n",
    "Will the percentages of delayed flights change for airlines at different origin and destination airports in 2018? List the combinations of airlines, origins, and destinations with more than 30% of delayed flights."
   ]
  },
  {
   "cell_type": "code",
   "execution_count": 59,
   "id": "7e8de5e3-ed35-4b24-987c-7a005d3b4c17",
   "metadata": {
    "id": "7e8de5e3-ed35-4b24-987c-7a005d3b4c17",
    "tags": []
   },
   "outputs": [
    {
     "data": {
      "text/html": [
       "<div>\n",
       "<style scoped>\n",
       "    .dataframe tbody tr th:only-of-type {\n",
       "        vertical-align: middle;\n",
       "    }\n",
       "\n",
       "    .dataframe tbody tr th {\n",
       "        vertical-align: top;\n",
       "    }\n",
       "\n",
       "    .dataframe thead th {\n",
       "        text-align: right;\n",
       "    }\n",
       "</style>\n",
       "<table border=\"1\" class=\"dataframe\">\n",
       "  <thead>\n",
       "    <tr style=\"text-align: right;\">\n",
       "      <th></th>\n",
       "      <th>airline</th>\n",
       "      <th>origin_airport</th>\n",
       "      <th>destination_airport</th>\n",
       "      <th>total_flights</th>\n",
       "      <th>delayed_flights</th>\n",
       "      <th>delay_percentage</th>\n",
       "    </tr>\n",
       "  </thead>\n",
       "  <tbody>\n",
       "    <tr>\n",
       "      <th>0</th>\n",
       "      <td>OO</td>\n",
       "      <td>ORD</td>\n",
       "      <td>ABE</td>\n",
       "      <td>145</td>\n",
       "      <td>61</td>\n",
       "      <td>42.068966</td>\n",
       "    </tr>\n",
       "    <tr>\n",
       "      <th>1</th>\n",
       "      <td>WN</td>\n",
       "      <td>DAL</td>\n",
       "      <td>ABQ</td>\n",
       "      <td>1523</td>\n",
       "      <td>707</td>\n",
       "      <td>46.421536</td>\n",
       "    </tr>\n",
       "    <tr>\n",
       "      <th>2</th>\n",
       "      <td>YV</td>\n",
       "      <td>DFW</td>\n",
       "      <td>ABQ</td>\n",
       "      <td>797</td>\n",
       "      <td>354</td>\n",
       "      <td>44.416562</td>\n",
       "    </tr>\n",
       "    <tr>\n",
       "      <th>3</th>\n",
       "      <td>OO</td>\n",
       "      <td>MSP</td>\n",
       "      <td>ABR</td>\n",
       "      <td>672</td>\n",
       "      <td>166</td>\n",
       "      <td>24.702381</td>\n",
       "    </tr>\n",
       "    <tr>\n",
       "      <th>4</th>\n",
       "      <td>MQ</td>\n",
       "      <td>DFW</td>\n",
       "      <td>ACT</td>\n",
       "      <td>1393</td>\n",
       "      <td>504</td>\n",
       "      <td>36.180905</td>\n",
       "    </tr>\n",
       "    <tr>\n",
       "      <th>...</th>\n",
       "      <td>...</td>\n",
       "      <td>...</td>\n",
       "      <td>...</td>\n",
       "      <td>...</td>\n",
       "      <td>...</td>\n",
       "      <td>...</td>\n",
       "    </tr>\n",
       "    <tr>\n",
       "      <th>12959</th>\n",
       "      <td>EV</td>\n",
       "      <td>GSO</td>\n",
       "      <td>ATL</td>\n",
       "      <td>2</td>\n",
       "      <td>1</td>\n",
       "      <td>50.0</td>\n",
       "    </tr>\n",
       "    <tr>\n",
       "      <th>12960</th>\n",
       "      <td>YX</td>\n",
       "      <td>ELP</td>\n",
       "      <td>OKC</td>\n",
       "      <td>1</td>\n",
       "      <td>1</td>\n",
       "      <td>100.0</td>\n",
       "    </tr>\n",
       "    <tr>\n",
       "      <th>12961</th>\n",
       "      <td>YX</td>\n",
       "      <td>PNS</td>\n",
       "      <td>ORD</td>\n",
       "      <td>1</td>\n",
       "      <td>1</td>\n",
       "      <td>100.0</td>\n",
       "    </tr>\n",
       "    <tr>\n",
       "      <th>12962</th>\n",
       "      <td>AA</td>\n",
       "      <td>DCA</td>\n",
       "      <td>MCI</td>\n",
       "      <td>1</td>\n",
       "      <td>1</td>\n",
       "      <td>100.0</td>\n",
       "    </tr>\n",
       "    <tr>\n",
       "      <th>12963</th>\n",
       "      <td>EV</td>\n",
       "      <td>CSG</td>\n",
       "      <td>ATL</td>\n",
       "      <td>1</td>\n",
       "      <td>1</td>\n",
       "      <td>100.0</td>\n",
       "    </tr>\n",
       "  </tbody>\n",
       "</table>\n",
       "<p>12964 rows × 6 columns</p>\n",
       "</div>"
      ],
      "text/plain": [
       "      airline origin_airport destination_airport  total_flights  \\\n",
       "0          OO            ORD                 ABE            145   \n",
       "1          WN            DAL                 ABQ           1523   \n",
       "2          YV            DFW                 ABQ            797   \n",
       "3          OO            MSP                 ABR            672   \n",
       "4          MQ            DFW                 ACT           1393   \n",
       "...       ...            ...                 ...            ...   \n",
       "12959      EV            GSO                 ATL              2   \n",
       "12960      YX            ELP                 OKC              1   \n",
       "12961      YX            PNS                 ORD              1   \n",
       "12962      AA            DCA                 MCI              1   \n",
       "12963      EV            CSG                 ATL              1   \n",
       "\n",
       "       delayed_flights  delay_percentage  \n",
       "0                   61         42.068966  \n",
       "1                  707         46.421536  \n",
       "2                  354         44.416562  \n",
       "3                  166         24.702381  \n",
       "4                  504         36.180905  \n",
       "...                ...               ...  \n",
       "12959                1              50.0  \n",
       "12960                1             100.0  \n",
       "12961                1             100.0  \n",
       "12962                1             100.0  \n",
       "12963                1             100.0  \n",
       "\n",
       "[12964 rows x 6 columns]"
      ]
     },
     "execution_count": 59,
     "metadata": {},
     "output_type": "execute_result"
    }
   ],
   "source": [
    "#same sql as above now agian just adding the origin\n",
    "query_airline_od_delays = \"\"\"\n",
    "SELECT\n",
    "  Reporting_Airline AS airline,\n",
    "  ORIGIN AS origin_airport,\n",
    "  DEST AS destination_airport,\n",
    "  COUNT(*) AS total_flights,\n",
    "  SUM(CASE WHEN ArrDelay > 0 THEN 1 ELSE 0 END) AS delayed_flights\n",
    "FROM\n",
    "  `info323-nka42-spring2025.dsongcp.flights-2018`\n",
    "WHERE\n",
    "  ArrDelay IS NOT NULL\n",
    "GROUP BY\n",
    "  Reporting_Airline, ORIGIN, DEST\n",
    "\"\"\"\n",
    "airline_od_delay_stats = bq.query(query_airline_od_delays).to_dataframe()\n",
    "# Adding the delay percentage column\n",
    "airline_od_delay_stats['delay_percentage'] = (\n",
    "    airline_od_delay_stats['delayed_flights'] / airline_od_delay_stats['total_flights']\n",
    ") * 100\n",
    "airline_od_delay_stats"
   ]
  },
  {
   "cell_type": "markdown",
   "id": "607725de-5c25-45af-a148-94ee84ea37db",
   "metadata": {},
   "source": [
    "Yes, the percentages of delayed flights do change significantly for airlines depending on the origin and destination airports."
   ]
  },
  {
   "cell_type": "code",
   "execution_count": 58,
   "id": "7e3e62a3-ce8c-4724-ac90-ef64df5ec419",
   "metadata": {
    "tags": []
   },
   "outputs": [
    {
     "name": "stdout",
     "output_type": "stream",
     "text": [
      "      airline origin_airport destination_airport  delay_percentage\n",
      "0          OO            ORD                 ABE         42.068966\n",
      "1          WN            DAL                 ABQ         46.421536\n",
      "2          YV            DFW                 ABQ         44.416562\n",
      "4          MQ            DFW                 ACT         36.180905\n",
      "5          OO            ATL                 AEX         35.745297\n",
      "...       ...            ...                 ...               ...\n",
      "12959      EV            GSO                 ATL              50.0\n",
      "12960      YX            ELP                 OKC             100.0\n",
      "12961      YX            PNS                 ORD             100.0\n",
      "12962      AA            DCA                 MCI             100.0\n",
      "12963      EV            CSG                 ATL             100.0\n",
      "\n",
      "[8735 rows x 4 columns]\n"
     ]
    }
   ],
   "source": [
    "# the combinations of airlines, origins, and destinations with more than 30% of delayed flights.\n",
    "airline_od_above_30pct = airline_od_delay_stats[\n",
    "    airline_od_delay_stats['delay_percentage'] > 30\n",
    "]\n",
    "\n",
    "# Show results\n",
    "print(airline_od_above_30pct[['airline', 'origin_airport', 'destination_airport', 'delay_percentage']])"
   ]
  },
  {
   "cell_type": "markdown",
   "id": "68525618-5fe9-4640-8551-26fcc4e3876f",
   "metadata": {
    "id": "68525618-5fe9-4640-8551-26fcc4e3876f"
   },
   "source": [
    "### Question 8: How are departure delays related to arrival delays in 2018?\n",
    "For each departure delay, calculate the average arrival delay, the standard deviation of the arrival delays, and the percentage of the arrival delays > 15. Plot the relationship between departure delays and their average arrival delays. Show the standard deviations on the plot. Describe how the average arrival delays are coorelated with the departure delays."
   ]
  },
  {
   "cell_type": "code",
   "execution_count": 61,
   "id": "1c3cf8c0-e7c3-4364-b4c7-b5c991ece080",
   "metadata": {
    "id": "1c3cf8c0-e7c3-4364-b4c7-b5c991ece080",
    "tags": []
   },
   "outputs": [],
   "source": [
    "query_dep_arr_delays = \"\"\"\n",
    "SELECT\n",
    "  DepDelay,\n",
    "  ArrDelay\n",
    "FROM\n",
    "  `info323-nka42-spring2025.dsongcp.flights-2018`\n",
    "WHERE\n",
    "  DepDelay IS NOT NULL\n",
    "  AND ArrDelay IS NOT NULL\n",
    "\"\"\"\n",
    "dep_arr_delays = bq.query(query_dep_arr_delays).to_dataframe()"
   ]
  },
  {
   "cell_type": "code",
   "execution_count": 62,
   "id": "4f17dfcf-833f-41ff-8a97-fe233f79a716",
   "metadata": {
    "tags": []
   },
   "outputs": [],
   "source": [
    "# Group by DepDelay\n",
    "grouped_stats = dep_arr_delays.groupby('DepDelay').agg(\n",
    "    avg_arrival_delay=('ArrDelay', 'mean'),\n",
    "    std_arrival_delay=('ArrDelay', 'std'),\n",
    "    total_count=('ArrDelay', 'count'),\n",
    "    count_arrival_delay_gt15=('ArrDelay', lambda x: (x > 15).sum())\n",
    ").reset_index()\n",
    "\n",
    "# Calculate the percentage of arrival delays > 15 minutes\n",
    "grouped_stats['perc_arrival_delay_gt15'] = (\n",
    "    grouped_stats['count_arrival_delay_gt15'] / grouped_stats['total_count']\n",
    ") * 100"
   ]
  },
  {
   "cell_type": "code",
   "execution_count": 66,
   "id": "89b6e87c-afc4-490e-8e3c-1c4f298fe734",
   "metadata": {
    "tags": []
   },
   "outputs": [
    {
     "name": "stdout",
     "output_type": "stream",
     "text": [
      "      DepDelay  avg_arrival_delay  std_arrival_delay  perc_arrival_delay_gt15\n",
      "0       -122.0             -120.0                NaN                      0.0\n",
      "1       -120.0             -112.0                NaN                      0.0\n",
      "2       -114.0             -106.0                NaN                      0.0\n",
      "3       -112.0             -108.0                NaN                      0.0\n",
      "4       -111.0             -107.0                NaN                      0.0\n",
      "...        ...                ...                ...                      ...\n",
      "1468    2098.0             2108.0                NaN                    100.0\n",
      "1469    2109.0             2153.0                NaN                    100.0\n",
      "1470    2468.0             2454.0                NaN                    100.0\n",
      "1471    2482.0             2475.0                NaN                    100.0\n",
      "1472    2710.0             2692.0                NaN                    100.0\n",
      "\n",
      "[1473 rows x 4 columns]\n"
     ]
    }
   ],
   "source": [
    "print(grouped_stats[['DepDelay', 'avg_arrival_delay', 'std_arrival_delay', 'perc_arrival_delay_gt15']])"
   ]
  },
  {
   "cell_type": "code",
   "execution_count": 65,
   "id": "f4b5dcda-3327-43d6-afeb-d096bce7a434",
   "metadata": {
    "tags": []
   },
   "outputs": [
    {
     "data": {
      "image/png": "[encoded data removed]",
      "text/plain": [
       "<Figure size 1200x700 with 1 Axes>"
      ]
     },
     "metadata": {},
     "output_type": "display_data"
    }
   ],
   "source": [
    "plt.figure(figsize=(12, 7))\n",
    "plt.errorbar(\n",
    "    grouped_stats['DepDelay'],\n",
    "    grouped_stats['avg_arrival_delay'],\n",
    "    yerr=grouped_stats['std_arrival_delay'],\n",
    "    fmt='o',\n",
    "    ecolor='lightgray',\n",
    "    elinewidth=2,\n",
    "    capsize=3\n",
    ")\n",
    "\n",
    "plt.title('Relationship between Departure Delays and Average Arrival Delays')\n",
    "plt.xlabel('Departure Delay (minutes)')\n",
    "plt.ylabel('Average Arrival Delay (minutes)')\n",
    "plt.grid(True)\n",
    "plt.xlim(-100, 500)  # change dimensions to see better zoomed in visual\n",
    "plt.ylim(-100, 500)\n",
    "plt.show()"
   ]
  },
  {
   "cell_type": "markdown",
   "id": "6af4af48-66bb-4584-93d9-72c60635a331",
   "metadata": {},
   "source": [
    "The error bars are the standard deviation on each point."
   ]
  },
  {
   "cell_type": "markdown",
   "id": "7760e445-e0b8-4a83-a9d8-2b260d337534",
   "metadata": {
    "id": "7760e445-e0b8-4a83-a9d8-2b260d337534"
   },
   "source": [
    "### Question 9:\n",
    "For the data in Question 8, plot the percentage of arrival delay > 15 vs. departure delays. Find the departure delay, D1, at which there are more than 30% of chance the arrival delay is more than 15 minutes.  "
   ]
  },
  {
   "cell_type": "code",
   "execution_count": 67,
   "id": "41842bc6-5078-42c9-a5ee-0285e372d365",
   "metadata": {
    "id": "41842bc6-5078-42c9-a5ee-0285e372d365",
    "tags": []
   },
   "outputs": [
    {
     "data": {
      "image/png": "[encoded data removed]",
      "text/plain": [
       "<Figure size 1200x700 with 1 Axes>"
      ]
     },
     "metadata": {},
     "output_type": "display_data"
    }
   ],
   "source": [
    "plt.figure(figsize=(12, 7))\n",
    "plt.plot(\n",
    "    grouped_stats['DepDelay'],\n",
    "    grouped_stats['perc_arrival_delay_gt15'],\n",
    "    marker='o',\n",
    "    linestyle='-',\n",
    "    markersize=3\n",
    ")\n",
    "plt.title('Percentage of Arrival Delays >15 min vs Departure Delays')\n",
    "plt.xlabel('Departure Delay (minutes)')\n",
    "plt.ylabel('Percentage of Arrival Delays > 15 minutes (%)')\n",
    "plt.grid(True)\n",
    "plt.axhline(30, color='red', linestyle='--', label='30% Threshold')  # Add 30% reference line\n",
    "plt.legend()\n",
    "plt.show()"
   ]
  },
  {
   "cell_type": "code",
   "execution_count": 68,
   "id": "0b36475e-81ac-4e92-ab70-fa3152ef0f73",
   "metadata": {
    "tags": []
   },
   "outputs": [
    {
     "name": "stdout",
     "output_type": "stream",
     "text": [
      "The departure delay D1 where there is more than 30% chance of arrival delay >15 minutes is: 17.0 minutes\n"
     ]
    }
   ],
   "source": [
    "# Find D1 where chance exceeds 30%\n",
    "D1_row = grouped_stats[grouped_stats['perc_arrival_delay_gt15'] > 30].sort_values('DepDelay').head(1)\n",
    "\n",
    "D1 = D1_row['DepDelay'].values[0]\n",
    "\n",
    "print(f\"The departure delay D1 where there is more than 30% chance of arrival delay >15 minutes is: {D1} minutes\")"
   ]
  },
  {
   "cell_type": "markdown",
   "id": "7392d01b-2646-4491-98d0-8dc1ff99e785",
   "metadata": {
    "id": "7392d01b-2646-4491-98d0-8dc1ff99e785"
   },
   "source": [
    "### Question 10: Find the decision boundary based on normal distribution assumption for 2018 data:\n",
    "For each departure delay, there are at least 365 flights. Assume the arrival delays follow the normal distribution for each departure delay. For each depture delay, what is the cutoff of the arrival delay at which the probability of the arrival delays exceeding the cutoff is more than 70%?  "
   ]
  },
  {
   "cell_type": "code",
   "execution_count": 72,
   "id": "c35337ba-5a58-4245-86ab-e9bdbe7bd2bf",
   "metadata": {
    "id": "c35337ba-5a58-4245-86ab-e9bdbe7bd2bf",
    "tags": []
   },
   "outputs": [
    {
     "name": "stdout",
     "output_type": "stream",
     "text": [
      "     DepDelay  avg_arrival_delay  std_arrival_delay  cutoff_70pct\n",
      "38      -26.0         -26.833773          11.187026    -32.700255\n",
      "39      -25.0         -26.536412          11.335078    -32.480533\n",
      "40      -24.0         -25.549587          12.524278    -32.117325\n",
      "41      -23.0         -24.217529          12.831366    -30.946304\n",
      "42      -22.0         -24.094834          12.305253    -30.547715\n",
      "..        ...                ...                ...           ...\n",
      "295     231.0         227.739336          20.954613    216.750727\n",
      "296     232.0         229.260638          20.970230    218.263839\n",
      "297     233.0         229.486911          21.696029    218.109502\n",
      "298     234.0         229.940092          18.808899    220.076696\n",
      "300     236.0         232.965517          20.983691    221.961659\n",
      "\n",
      "[262 rows x 4 columns]\n"
     ]
    }
   ],
   "source": [
    "filtered_stats = grouped_stats[grouped_stats['total_count'] >= 365].copy()\n",
    "from scipy.stats import norm\n",
    "\n",
    "# Calculate the cutoff where P(ArrDelay <= cutoff) = 30%\n",
    "filtered_stats['cutoff_70pct'] = norm.ppf(\n",
    "    0.30,  # 30% percentile (because we want P(ArrDelay > cutoff) > 70%)\n",
    "    loc=filtered_stats['avg_arrival_delay'],\n",
    "    scale=filtered_stats['std_arrival_delay']\n",
    ")\n",
    "\n",
    "print(filtered_stats[['DepDelay', 'avg_arrival_delay', 'std_arrival_delay', 'cutoff_70pct']])\n"
   ]
  },
  {
   "cell_type": "markdown",
   "id": "38a032ab-4c4f-4c2e-98a1-ce0e9ade331c",
   "metadata": {
    "id": "38a032ab-4c4f-4c2e-98a1-ce0e9ade331c"
   },
   "source": [
    "### Question 11:\n",
    "Using the data in Question 10, find the departure delay, D2, at which there is more than 70% probability that the arrival delay is more than 15 minutes"
   ]
  },
  {
   "cell_type": "code",
   "execution_count": 75,
   "id": "afc75feb-84c4-4aef-8870-0222359ba0d9",
   "metadata": {
    "id": "afc75feb-84c4-4aef-8870-0222359ba0d9",
    "tags": []
   },
   "outputs": [
    {
     "name": "stdout",
     "output_type": "stream",
     "text": [
      "The departure delay D2 where there is more than 70% chance that arrival delay > 15 minutes is: -26.0 minutes\n"
     ]
    }
   ],
   "source": [
    "D2_row = filtered_stats[filtered_stats['cutoff_70pct'] <= 15].sort_values('DepDelay').head(1)\n",
    "\n",
    "D2 = D2_row['DepDelay'].values[0]\n",
    "\n",
    "print(f\"The departure delay D2 where there is more than 70% chance that arrival delay > 15 minutes is: {D2} minutes\")"
   ]
  },
  {
   "cell_type": "markdown",
   "id": "d9a78a85-a6b4-4b59-bd1f-7d64e449cd43",
   "metadata": {
    "id": "d9a78a85-a6b4-4b59-bd1f-7d64e449cd43"
   },
   "source": [
    "### Question 12:\n",
    "Now you have two simple models that make decision at D1 or D2. Download and ingest the data for the year 2019 to the BigQuery. Evaluate the accuracy, precision, and recall of the decision bounarires D1 and D2:\n",
    "$$\n",
    "accuracy = \\frac{number\\_of\\_correctly\\_predicted\\_flights}{total\\_number\\_of\\_flights}\n",
    "$$\n",
    "\n",
    "$$\n",
    "precision = \\frac{number\\_of\\_correctly\\_predicted\\_delayed\\_flights}{total\\_number\\_of\\_predicted\\_delayed\\_flights}\n",
    "$$\n",
    "\n",
    "$$\n",
    "recall = \\frac{number\\_of\\_correctly\\_predicted\\_delayed\\_flights}{total\\_number\\_of\\_truly\\_delayed\\_flights}\n",
    "$$"
   ]
  },
  {
   "cell_type": "code",
   "execution_count": 77,
   "id": "f2c9c9c4-ca0a-4348-ae6e-a520404b6805",
   "metadata": {
    "id": "f2c9c9c4-ca0a-4348-ae6e-a520404b6805",
    "tags": []
   },
   "outputs": [
    {
     "name": "stdout",
     "output_type": "stream",
     "text": [
      "D1 - Accuracy: 0.9304, Precision: 0.8402, Recall: 0.7699\n"
     ]
    }
   ],
   "source": [
    "D1 = 17\n",
    "D2 = -26\n",
    "\n",
    "# Query from 2019 data\n",
    "query_2019 = \"\"\"\n",
    "SELECT\n",
    "  DepDelay,\n",
    "  ArrDelay\n",
    "FROM\n",
    "  `info323-nka42-spring2025.dsongcp.flights-2019`\n",
    "WHERE\n",
    "  DepDelay IS NOT NULL\n",
    "  AND ArrDelay IS NOT NULL\n",
    "\"\"\"\n",
    "data_2019 = bq.query(query_2019).to_dataframe()\n",
    "\n",
    "# For D1\n",
    "data_2019['predicted_delayed_D1'] = data_2019['DepDelay'] > D1\n",
    "data_2019['actual_delayed'] = data_2019['ArrDelay'] > 15\n",
    "\n",
    "# Calculate confusion matrix for D1\n",
    "TP_D1 = ((data_2019['predicted_delayed_D1'] == True) & (data_2019['actual_delayed'] == True)).sum()\n",
    "FP_D1 = ((data_2019['predicted_delayed_D1'] == True) & (data_2019['actual_delayed'] == False)).sum()\n",
    "FN_D1 = ((data_2019['predicted_delayed_D1'] == False) & (data_2019['actual_delayed'] == True)).sum()\n",
    "TN_D1 = ((data_2019['predicted_delayed_D1'] == False) & (data_2019['actual_delayed'] == False)).sum()\n",
    "\n",
    "# Metrics for D1\n",
    "accuracy_D1 = (TP_D1 + TN_D1) / (TP_D1 + FP_D1 + FN_D1 + TN_D1)\n",
    "precision_D1 = TP_D1 / (TP_D1 + FP_D1)\n",
    "recall_D1 = TP_D1 / (TP_D1 + FN_D1)\n",
    "\n",
    "print(f\"D1 - Accuracy: {accuracy_D1:.4f}, Precision: {precision_D1:.4f}, Recall: {recall_D1:.4f}\")"
   ]
  },
  {
   "cell_type": "code",
   "execution_count": null,
   "id": "519d0cde-a078-422f-be2d-36b10a90abbc",
   "metadata": {},
   "outputs": [],
   "source": []
  }
 ],
 "metadata": {
  "colab": {
   "provenance": []
  },
  "environment": {
   "kernel": "conda-base-py",
   "name": "workbench-notebooks.m129",
   "type": "gcloud",
   "uri": "us-docker.pkg.dev/deeplearning-platform-release/gcr.io/workbench-notebooks:m129"
  },
  "kernelspec": {
   "display_name": "Python 3 (ipykernel) (Local)",
   "language": "python",
   "name": "conda-base-py"
  },
  "language_info": {
   "codemirror_mode": {
    "name": "ipython",
    "version": 3
   },
   "file_extension": ".py",
   "mimetype": "text/x-python",
   "name": "python",
   "nbconvert_exporter": "python",
   "pygments_lexer": "ipython3",
   "version": "3.10.16"
  }
 },
 "nbformat": 4,
 "nbformat_minor": 5
}
